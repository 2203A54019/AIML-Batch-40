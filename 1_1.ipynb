{
  "nbformat": 4,
  "nbformat_minor": 0,
  "metadata": {
    "colab": {
      "provenance": []
    },
    "kernelspec": {
      "name": "python3",
      "display_name": "Python 3"
    },
    "language_info": {
      "name": "python"
    }
  },
  "cells": [
    {
      "cell_type": "code",
      "execution_count": 1,
      "metadata": {
        "colab": {
          "base_uri": "https://localhost:8080/"
        },
        "id": "DSILy4e8HVHr",
        "outputId": "243acc96-27ee-43dc-a4f6-3082a5d928f2"
      },
      "outputs": [
        {
          "output_type": "stream",
          "name": "stdout",
          "text": [
            "type of a= <class 'int'>\n",
            "type of b= <class 'str'>\n",
            "type of c= <class 'float'>\n",
            "type of d= <class 'list'>\n"
          ]
        }
      ],
      "source": [
        "a=1\n",
        "print(\"type of a=\",type(a))\n",
        "b=\"malavika\"\n",
        "print(\"type of b=\",type(b))\n",
        "c=1.43\n",
        "print(\"type of c=\",type(c))\n",
        "d=[1,2,3,4]\n",
        "print(\"type of d=\",type(d))"
      ]
    }
  ]
}