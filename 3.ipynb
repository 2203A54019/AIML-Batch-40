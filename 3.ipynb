{
  "nbformat": 4,
  "nbformat_minor": 0,
  "metadata": {
    "colab": {
      "provenance": []
    },
    "kernelspec": {
      "name": "python3",
      "display_name": "Python 3"
    },
    "language_info": {
      "name": "python"
    }
  },
  "cells": [
    {
      "cell_type": "code",
      "execution_count": null,
      "metadata": {
        "id": "LprdktMNJjxV"
      },
      "outputs": [],
      "source": [
        "import pandas as pd\n",
        "data_excel=pd.read_excel('/haha3.xlsx')\n",
        "data_csv=pd.read_csv('/haha.csv')\n",
        "data_tsv=pd.read_csv('/haha2.tsv')\n",
        "print(data_excel)\n",
        "print(data_csv)\n",
        "print(data_tsv)"
      ]
    }
  ]
}