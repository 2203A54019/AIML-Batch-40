{
  "nbformat": 4,
  "nbformat_minor": 0,
  "metadata": {
    "colab": {
      "provenance": []
    },
    "kernelspec": {
      "name": "python3",
      "display_name": "Python 3"
    },
    "language_info": {
      "name": "python"
    }
  },
  "cells": [
    {
      "cell_type": "code",
      "execution_count": null,
      "metadata": {
        "id": "_ZaulEr4J710"
      },
      "outputs": [],
      "source": [
        "people=[\"arn\",\"brandon\",\"chen\",\"David\"]\n",
        "age=[21,12,32,45,50,18]\n",
        "weight=[55,25,60,70,95,65]\n",
        "height=[160,135,143,165,173,153]"
      ]
    },
    {
      "cell_type": "code",
      "source": [
        "import matplotlib.pyplot as plt"
      ],
      "metadata": {
        "id": "ki8OB-7FJ9QH"
      },
      "execution_count": null,
      "outputs": []
    },
    {
      "cell_type": "code",
      "source": [
        "plt.scatter(weight,height)\n",
        "plt.title(\"Relationship between weight and height of patients\")\n",
        "plt.ylabel(\"Height in centimeters\")\n",
        "plt.xlabel(\"weight in kilograms\")\n",
        "plt.show()"
      ],
      "metadata": {
        "id": "N54heaJPKAES"
      },
      "execution_count": null,
      "outputs": []
    }
  ]
}