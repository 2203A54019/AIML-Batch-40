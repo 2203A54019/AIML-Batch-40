{
  "nbformat": 4,
  "nbformat_minor": 0,
  "metadata": {
    "colab": {
      "provenance": []
    },
    "kernelspec": {
      "name": "python3",
      "display_name": "Python 3"
    },
    "language_info": {
      "name": "python"
    }
  },
  "cells": [
    {
      "cell_type": "code",
      "execution_count": 1,
      "metadata": {
        "colab": {
          "base_uri": "https://localhost:8080/"
        },
        "id": "sXeXjcwtE1c4",
        "outputId": "f5942ff7-5fdd-46b3-e164-bfe5e92b982f"
      },
      "outputs": [
        {
          "output_type": "stream",
          "name": "stdout",
          "text": [
            "       Name  Age  Height  Weight\n",
            "0  malavika   25     145      45\n",
            "1   shalini   30     151      55\n",
            "2  rushitha   25     165      95\n",
            "3  akshitha   40     173      75\n"
          ]
        }
      ],
      "source": [
        "import pandas as pd\n",
        "people = ['malavika', 'shalini', 'rushitha', 'akshitha']\n",
        "age = [25, 30, 25, 40]\n",
        "height = [145, 151, 165, 173]\n",
        "weight = [45, 55, 95, 75]\n",
        "\n",
        "healthcare_data = pd.DataFrame({\n",
        "    'Name': people,\n",
        "    'Age': age,\n",
        "    'Height': height,\n",
        "    'Weight': weight\n",
        "})\n",
        "print(healthcare_data)"
      ]
    }
  ]
}