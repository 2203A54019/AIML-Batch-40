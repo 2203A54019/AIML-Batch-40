{
  "nbformat": 4,
  "nbformat_minor": 0,
  "metadata": {
    "colab": {
      "provenance": []
    },
    "kernelspec": {
      "name": "python3",
      "display_name": "Python 3"
    },
    "language_info": {
      "name": "python"
    }
  },
  "cells": [
    {
      "cell_type": "code",
      "execution_count": null,
      "metadata": {
        "id": "hdYdjjPpJVsR"
      },
      "outputs": [],
      "source": [
        "import numpy as np\n",
        "a=90\n",
        "print(\"sin30=\",np.sin(a))\n",
        "b=40\n",
        "print(\"log(40)=\",np.log(40))\n",
        "c=1230\n",
        "print(\"exp(1230)=\",np.exp(40))"
      ]
    }
  ]
}