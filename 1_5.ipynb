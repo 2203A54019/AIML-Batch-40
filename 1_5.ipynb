{
  "nbformat": 4,
  "nbformat_minor": 0,
  "metadata": {
    "colab": {
      "provenance": []
    },
    "kernelspec": {
      "name": "python3",
      "display_name": "Python 3"
    },
    "language_info": {
      "name": "python"
    }
  },
  "cells": [
    {
      "cell_type": "code",
      "execution_count": null,
      "metadata": {
        "id": "d7OQv_TUIrNz"
      },
      "outputs": [],
      "source": [
        "import numpy as np\n",
        "list1=[1,2,3,4]\n",
        "array1=np.array(list1)\n",
        "list2=[5,6,7,8]\n",
        "array2=np.array(list2)\n",
        "array3=array1+array2\n",
        "print(\"Addition of two:\",array3)\n",
        "print(\"dimension of array3 is\",array3.ndim)"
      ]
    }
  ]
}